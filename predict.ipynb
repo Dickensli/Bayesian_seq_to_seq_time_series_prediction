{
 "cells": [
  {
   "cell_type": "code",
   "execution_count": 1,
   "metadata": {},
   "outputs": [
    {
     "name": "stderr",
     "output_type": "stream",
     "text": [
      "/home/lihaocheng_i/.conda/envs/py3/lib/python3.6/importlib/_bootstrap.py:219: RuntimeWarning: compiletime version 3.5 of module 'tensorflow.python.framework.fast_tensor_util' does not match runtime version 3.6\n",
      "  return f(*args, **kwds)\n",
      "/home/lihaocheng_i/.conda/envs/py3/lib/python3.6/site-packages/h5py/__init__.py:36: FutureWarning: Conversion of the second argument of issubdtype from `float` to `np.floating` is deprecated. In future, it will be treated as `np.float64 == np.dtype(float).type`.\n",
      "  from ._conv import register_converters as _register_converters\n"
     ]
    }
   ],
   "source": [
    "import os\n",
    "import tensorflow as tf\n",
    "from model import Model\n",
    "from input_pipe import InputPipe\n",
    "from feeder import VarFeeder\n",
    "from tqdm import trange\n",
    "import matplotlib.pyplot as plt\n",
    "import collections\n",
    "import pandas as pd\n",
    "import numpy as np\n",
    "from trainer import predict\n",
    "from hparams import build_hparams\n",
    "import hparams\n",
    "%matplotlib inline\n",
    "%config InlineBackend.figure_format = 'retina'"
   ]
  },
  {
   "cell_type": "code",
   "execution_count": 2,
   "metadata": {},
   "outputs": [],
   "source": [
    "def smape(true, pred):\n",
    "    summ = np.abs(true) + np.abs(pred)\n",
    "    smape = np.where(summ == 0, 0, np.abs(true - pred) / summ)\n",
    "    return smape\n",
    "\n",
    "def mae(true, pred):\n",
    "    return np.abs(np.abs(true) - np.abs(pred))\n",
    "\n",
    "def mean_smape(true, pred):\n",
    "    raw_smape = smape(true, pred)\n",
    "    masked_smape = np.ma.array(raw_smape, mask=np.isnan(raw_smape))\n",
    "    return masked_smape.mean()\n",
    "\n",
    "def mean_mae(true, pred):\n",
    "    raw_mae = mae(true, pred)\n",
    "    masked_mae = np.ma.array(raw_mae, mask=np.isnan(raw_mae))\n",
    "    return masked_mae.mean()\n",
    "\n",
    "def show_single(vm, scope=288, bad_case=True):\n",
    "    name = preds.index[vm]\n",
    "    if bad_case:\n",
    "        bad_path = os.path.join('data/badcase', 'single_rnn_mae_beyond_1000_vm_uuids')\n",
    "        bad_list = []\n",
    "        with open(bad_path, 'r') as f:\n",
    "            line = f.readline()\n",
    "            while(line):\n",
    "                line = line[:-1] + \".hdf5\"\n",
    "                if line in preds.index:\n",
    "                    bad_list.append(line)\n",
    "                line = f.readline()\n",
    "        name = bad_list[vm]\n",
    "    \n",
    "    # mean mae for each row\n",
    "    print(f'vm name: {name}')\n",
    "    prev.loc[name, ends[vm] - scope : ends[vm]].plot(logy=True)\n",
    "    (preds.loc[name, :]).plot(logy=True)\n",
    "    # mean loss\n",
    "    print(mean_mae(prev.loc[name, ends[vm] - 288 : ends[vm]], preds.loc[name, :]))"
   ]
  },
  {
   "cell_type": "code",
   "execution_count": 3,
   "metadata": {},
   "outputs": [
    {
     "name": "stderr",
     "output_type": "stream",
     "text": [
      "/home/lihaocheng_i/.conda/envs/py3/lib/python3.6/site-packages/tables/leaf.py:414: PerformanceWarning: The Leaf ``/df/block0_values`` is exceeding the maximum recommended rowsize (104857600 bytes);\n",
      "be ready to see PyTables asking for *lots* of memory and possibly slow\n",
      "I/O.  You may want to reduce the rowsize by trimming the value of\n",
      "dimensions that are orthogonal (and preferably close) to the *main*\n",
      "dimension of this leave.  Alternatively, in case you have specified a\n",
      "very small/large chunksize, you may want to increase/decrease it.\n",
      "  PerformanceWarning)\n",
      "/home/lihaocheng_i/.conda/envs/py3/lib/python3.6/site-packages/pandas/io/pytables.py:734: FutureWarning: \n",
      "Panel is deprecated and will be removed in a future version.\n",
      "The recommended way to represent these types of 3-dimensional data are with a MultiIndex on a DataFrame, via the Panel.to_frame() method\n",
      "Alternatively, you can use the xarray package http://xarray.pydata.org/en/stable/.\n",
      "Pandas provides a `.to_xarray()` method to help automate this conversion.\n",
      "\n",
      "  columns=columns)\n"
     ]
    }
   ],
   "source": [
    "from make_features import read_all, read_pickle, find_start_end\n",
    "df_all = read_all()\n",
    "starts, ends = find_start_end(df_all.values)"
   ]
  },
  {
   "cell_type": "code",
   "execution_count": 4,
   "metadata": {},
   "outputs": [],
   "source": [
    "prev = df_all.apply(lambda x : np.exp(x) - 1)"
   ]
  },
  {
   "cell_type": "code",
   "execution_count": 5,
   "metadata": {},
   "outputs": [],
   "source": [
    "paths = [p for p in tf.train.get_checkpoint_state('data/cpt/s32').all_model_checkpoint_paths]"
   ]
  },
  {
   "cell_type": "code",
   "execution_count": 6,
   "metadata": {},
   "outputs": [
    {
     "data": {
      "text/plain": [
       "['data/cpt/s32/cpt-126']"
      ]
     },
     "execution_count": 6,
     "metadata": {},
     "output_type": "execute_result"
    }
   ],
   "source": [
    "paths"
   ]
  },
  {
   "cell_type": "code",
   "execution_count": 7,
   "metadata": {
    "scrolled": true
   },
   "outputs": [
    {
     "name": "stdout",
     "output_type": "stream",
     "text": [
      "INFO:tensorflow:Restoring parameters from data/vars/feeder.cpt\n",
      "INFO:tensorflow:Restoring parameters from data/cpt/s32/cpt-126\n",
      "0...🎉\n",
      "INFO:tensorflow:Restoring parameters from data/vars/feeder.cpt\n",
      "INFO:tensorflow:Restoring parameters from data/cpt/s32/cpt-126\n",
      "0...🎉\n",
      "INFO:tensorflow:Restoring parameters from data/vars/feeder.cpt\n",
      "INFO:tensorflow:Restoring parameters from data/cpt/s32/cpt-126\n",
      "0...🎉\n"
     ]
    }
   ],
   "source": [
    "#tf.reset_default_graph()\n",
    "#preds = predict(paths, default_hparams(), back_offset=0,\n",
    "#                    n_models=3, target_model=0, seed=2, batch_size=2048, asgd=True)\n",
    "t_preds = []\n",
    "for tm in range(3):\n",
    "    tf.reset_default_graph()\n",
    "    t_preds.append(predict(paths, build_hparams(hparams.params_s32), back_offset=0, predict_window=288,\n",
    "                    n_models=3, target_model=tm, seed=2, batch_size=1024, asgd=True))\n",
    "preds=sum(t_preds) /3"
   ]
  },
  {
   "cell_type": "code",
   "execution_count": 8,
   "metadata": {
    "scrolled": true
   },
   "outputs": [
    {
     "data": {
      "text/plain": [
       "422.77079341827994"
      ]
     },
     "execution_count": 8,
     "metadata": {},
     "output_type": "execute_result"
    }
   ],
   "source": [
    "# mean mae\n",
    "preds.index = [idx.decode('ascii') for idx in preds.index]\n",
    "res = 0\n",
    "for idx in preds.index:\n",
    "    res += np.abs(preds.loc[idx, :] - prev.loc[idx, -288:]).sum()\n",
    "res / (len(preds.index) * 288) "
   ]
  },
  {
   "cell_type": "markdown",
   "metadata": {},
   "source": [
    "Visual sanity check"
   ]
  },
  {
   "cell_type": "code",
   "execution_count": 19,
   "metadata": {},
   "outputs": [
    {
     "name": "stdout",
     "output_type": "stream",
     "text": [
      "vm name: 2b8a5864954553fabe65feb160e089ab.hdf5\n",
      "1500.4276784261074\n"
     ]
    },
    {
     "data": {
      "image/png": "[encoded data removed]",
      "text/plain": [
       "<Figure size 432x288 with 1 Axes>"
      ]
     },
     "metadata": {
      "image/png": {
       "height": 250,
       "width": 375
      }
     },
     "output_type": "display_data"
    }
   ],
   "source": [
    "show_single(110, 1288)"
   ]
  },
  {
   "cell_type": "code",
   "execution_count": 12,
   "metadata": {
    "scrolled": true
   },
   "outputs": [],
   "source": [
    "missing_vm = prev.index.difference(preds.index)\n",
    "# Use zeros for missing pages\n",
    "rmdf = pd.DataFrame(index=missing_vm,\n",
    "                    data=np.tile(0, (len(preds.columns),len(missing_vm))).T, columns=preds.columns)\n",
    "f_preds = preds.append(rmdf).sort_index()\n",
    "\n",
    "# Use zero for negative predictions\n",
    "f_preds[f_preds < 0.5] = 0\n",
    "# Rouns predictions to nearest int\n",
    "f_preds = np.round(f_preds).astype(np.int64)"
   ]
  },
  {
   "cell_type": "code",
   "execution_count": null,
   "metadata": {},
   "outputs": [],
   "source": []
  }
 ],
 "metadata": {
  "kernelspec": {
   "display_name": "Python 3",
   "language": "python",
   "name": "python3"
  },
  "language_info": {
   "codemirror_mode": {
    "name": "ipython",
    "version": 3
   },
   "file_extension": ".py",
   "mimetype": "text/x-python",
   "name": "python",
   "nbconvert_exporter": "python",
   "pygments_lexer": "ipython3",
   "version": "3.6.5"
  }
 },
 "nbformat": 4,
 "nbformat_minor": 2
}
